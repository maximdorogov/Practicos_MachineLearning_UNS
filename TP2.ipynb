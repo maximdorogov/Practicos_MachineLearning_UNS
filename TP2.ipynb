{
 "cells": [
  {
   "cell_type": "markdown",
   "metadata": {},
   "source": [
    "# Ejercicio 2\n",
    "## Generar dos datasets gausianos de diferente media y varianza. Graficar el ROC"
   ]
  },
  {
   "cell_type": "code",
   "execution_count": 1,
   "metadata": {},
   "outputs": [
    {
     "data": {
      "text/html": [
       "<style>.container { width:75% !important; }</style>"
      ],
      "text/plain": [
       "<IPython.core.display.HTML object>"
      ]
     },
     "metadata": {},
     "output_type": "display_data"
    }
   ],
   "source": [
    "# Agrando un poco los margenes del notebook\n",
    "%matplotlib inline\n",
    "from IPython.core.display import display, HTML\n",
    "display(HTML(\"<style>.container { width:75% !important; }</style>\"))"
   ]
  },
  {
   "cell_type": "code",
   "execution_count": 2,
   "metadata": {},
   "outputs": [],
   "source": [
    "import numpy as np\n",
    "import pandas as pd\n",
    "import matplotlib.pyplot as plt\n",
    "import seaborn as sns\n",
    "from sklearn.datasets import make_blobs\n",
    "import random"
   ]
  },
  {
   "cell_type": "code",
   "execution_count": 142,
   "metadata": {},
   "outputs": [],
   "source": [
    "## defino la funcion para armarme el dataset clasificado"
   ]
  },
  {
   "cell_type": "code",
   "execution_count": 143,
   "metadata": {},
   "outputs": [],
   "source": [
    "def create_dataset(popul_A, popul_B):\n",
    "    \n",
    "    labeled_A = []\n",
    "    labeled_B = []\n",
    "    \n",
    "#asigno labels a ambas clases\n",
    "\n",
    "    for elemA,elemB in zip(popul_A, popul_B):\n",
    "        auxA = (0, elemA)\n",
    "        auxB = (1, elemB)\n",
    "        labeled_A.append(auxA)\n",
    "        labeled_B.append(auxB)\n",
    "\n",
    "    data_set = labeled_A + labeled_B\n",
    "    random.shuffle(data_set)\n",
    "    data_set.sort(reverse=True, key=lambda tup: tup[1])\n",
    "    \n",
    "    return data_set"
   ]
  },
  {
   "cell_type": "code",
   "execution_count": 171,
   "metadata": {},
   "outputs": [
    {
     "data": {
      "image/png": "[encoded data removed]",
      "text/plain": [
       "<Figure size 432x288 with 1 Axes>"
      ]
     },
     "metadata": {
      "needs_background": "light"
     },
     "output_type": "display_data"
    },
    {
     "data": {
      "text/plain": [
       "50"
      ]
     },
     "execution_count": 171,
     "metadata": {},
     "output_type": "execute_result"
    }
   ],
   "source": [
    "    mu1,sigma1 = 10, 2\n",
    "    mu2,sigma2 = 15, 3\n",
    "    \n",
    "    popul_A = np.random.normal(mu1, sigma1, 50)\n",
    "    popul_B = np.random.normal(mu2, sigma2, 50)\n",
    "    \n",
    "    plt.hist(popul_A)\n",
    "    plt.hist(popul_B)\n",
    "    plt.show()\n",
    "    "
   ]
  },
  {
   "cell_type": "code",
   "execution_count": 181,
   "metadata": {},
   "outputs": [],
   "source": [
    "\n",
    "data_set = create_dataset( popul_A, popul_B)\n",
    "# Tengo 50 elementos en cada categoria, divido mis ejes en 50 partes.\n",
    "# le asigno 51 elementos para que el primero sea cero y la curva empieze graficandod esde el origen. El valor 0 de la curva ROC es el elemento 1 del array\n",
    "\n",
    "tpr = [0]*51  \n",
    "fpr = np.linspace(0,1,num=51)\n",
    "idx = 1\n",
    "ctr = 0\n",
    "\n",
    "# Obtengo el TPR y FPR de mi dataset clasificado\n",
    "\n",
    "for a_tuple in data_set:\n",
    "    \n",
    "    if a_tuple[0]:\n",
    "        ctr = ctr + 1\n",
    "        tpr[idx] = ctr\n",
    "    else:\n",
    "         tpr[idx] = ctr\n",
    "         idx = idx + 1\n",
    "   \n",
    "\n"
   ]
  },
  {
   "cell_type": "markdown",
   "metadata": {},
   "source": [
    "## Ahora imprimo el ROC obtenido y la recta identidad"
   ]
  },
  {
   "cell_type": "code",
   "execution_count": 182,
   "metadata": {},
   "outputs": [
    {
     "data": {
      "text/plain": [
       "Text(0.5, 0.98, 'Curva ROC')"
      ]
     },
     "execution_count": 182,
     "metadata": {},
     "output_type": "execute_result"
    },
    {
     "data": {
      "image/png": "[encoded data removed]",
      "text/plain": [
       "<Figure size 432x288 with 1 Axes>"
      ]
     },
     "metadata": {
      "needs_background": "light"
     },
     "output_type": "display_data"
    }
   ],
   "source": [
    "\n",
    "plt.plot(fpr,np.array(tpr)/50)\n",
    "plt.plot(fpr,fpr)\n",
    "plt.xlabel('FPR')\n",
    "plt.ylabel('TPR')\n",
    "plt.suptitle('Curva ROC')"
   ]
  },
  {
   "cell_type": "code",
   "execution_count": 183,
   "metadata": {},
   "outputs": [],
   "source": [
    "## para hacer el clasificador no supervisado podriamos aplicar un algoritmo para estimacion de parametros al estilo de k-means o Exp. Maximization."
   ]
  },
  {
   "cell_type": "code",
   "execution_count": null,
   "metadata": {},
   "outputs": [],
   "source": []
  }
 ],
 "metadata": {
  "kernelspec": {
   "display_name": "Python 3",
   "language": "python",
   "name": "python3"
  },
  "language_info": {
   "codemirror_mode": {
    "name": "ipython",
    "version": 3
   },
   "file_extension": ".py",
   "mimetype": "text/x-python",
   "name": "python",
   "nbconvert_exporter": "python",
   "pygments_lexer": "ipython3",
   "version": "3.8.5"
  }
 },
 "nbformat": 4,
 "nbformat_minor": 4
}
